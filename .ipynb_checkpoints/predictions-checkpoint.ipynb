{
 "cells": [
  {
   "cell_type": "code",
   "execution_count": 1,
   "metadata": {},
   "outputs": [],
   "source": [
    "import pandas as pd\n",
    "import os\n",
    "from sklearn.ensemble import RandomForestClassifier\n",
    "from sklearn.metrics import precision_score"
   ]
  },
  {
   "cell_type": "markdown",
   "metadata": {},
   "source": [
    "Создаем функцию добавления колонок с предикторами.\n",
    "Для каждой строки: \n",
    "- среднее количество очков домашней/гостевой команды за первую/вторую половину дома/на выезде за все предыдущие игры\n",
    "- то же за 5 последних игр\n",
    "- разница в счете побед/поражений между домашней и гостевой командой\n",
    "- процент предыдущих игр с, закончившихся с разницой менее 5 очков для домашей/гостевой команды\n",
    "- стадия сезона (колонка уже была добавлена)"
   ]
  },
  {
   "cell_type": "code",
   "execution_count": 2,
   "metadata": {},
   "outputs": [],
   "source": [
    "# make predictors columns\n",
    "def add_predictors(df):\n",
    "    for index in range(df.shape[0]):\n",
    "        home_team = df.iloc[index]['home_team']\n",
    "        away_team = df.iloc[index]['away_team']\n",
    "\n",
    "        home_team_record = \\\n",
    "        df.iloc[index+1:].loc[((df['home_team'] == home_team) & (df['home_score'] > df['away_score'])) \\\n",
    "                                    | ((df['away_team'] == home_team) & (df['home_score'] < df['away_score']))] \\\n",
    "                                .shape[0] - \\\n",
    "        df.iloc[index+1:].loc[((df['home_team'] == home_team) & (df['home_score'] < df['away_score'])) \\\n",
    "                                   | ((df['away_team'] == home_team) & (df['home_score'] > df['away_score']))] \\\n",
    "                                .shape[0]\n",
    "\n",
    "        away_team_record = \\\n",
    "        df.iloc[index+1:].loc[((df['away_team'] == away_team) & (df['away_score'] > df['home_score'])) \\\n",
    "                                    | ((df['home_team'] == away_team) & (df['home_score'] > df['away_score']))] \\\n",
    "                                .shape[0] - \\\n",
    "        df.iloc[index+1:].loc[((df['away_team'] == away_team) & (df['home_score'] > df['away_score'])) \\\n",
    "                                   | ((df['home_team'] == away_team) & (df['home_score'] < df['away_score']))] \\\n",
    "                                .shape[0]\n",
    "        \n",
    "        try:\n",
    "            home_team_less5diff_pct = float (df.iloc[index+1:].loc[((df['home_team'] == home_team) \\\n",
    "                                      & (abs(df['home_score'] - df['away_score']) < 5)) \\\n",
    "                                    | ((df['away_team'] == home_team) \\\n",
    "                                      & (abs(df['home_score'] - df['away_score']) < 5))].shape[0]) / \\\n",
    "            df.iloc[index+1:].loc[(df['home_team'] == home_team) | (df['away_team'] == home_team)].shape[0]\n",
    "        except:\n",
    "            home_team_less5diff_pct = 0\n",
    "        \n",
    "        try:\n",
    "            away_team_less5diff_pct = float (df.iloc[index+1:].loc[((df['away_team'] == away_team) \\\n",
    "                                              & (abs(df['home_score'] - df['away_score']) < 5)) \\\n",
    "                                            | ((df['home_team'] == away_team) \\\n",
    "                                              & (abs(df['home_score'] - df['away_score']) < 5))].shape[0]) / \\\n",
    "            df.iloc[index+1:].loc[(df['away_team'] == away_team) | (df['home_team'] == away_team)].shape[0]\n",
    "        except:\n",
    "            away_team_less5diff_pct = 0\n",
    "            \n",
    "        avg_home_team_1st_half_athome = df.iloc[index+1:].loc[df['home_team'] == home_team, 'home_team_1st_half'].values.mean()\n",
    "        avg_home_team_2nd_half_athome = df.iloc[index+1:].loc[df['home_team'] == home_team, 'home_team_2nd_half'].values.mean()\n",
    "        avg_home_team_1st_half_away = df.iloc[index+1:].loc[df['away_team'] == home_team, 'away_team_1st_half'].values.mean()\n",
    "        avg_home_team_2nd_half_away = df.iloc[index+1:].loc[df['away_team'] == home_team, 'away_team_2nd_half'].values.mean()\n",
    "\n",
    "        avg_away_team_1st_half_away = df.iloc[index+1:].loc[df['away_team'] == away_team, 'away_team_1st_half'].values.mean()\n",
    "        avg_away_team_2nd_half_away = df.iloc[index+1:].loc[df['away_team'] == away_team, 'away_team_2nd_half'].values.mean()\n",
    "        avg_away_team_1st_half_home = df.iloc[index+1:].loc[df['home_team'] == away_team, 'home_team_1st_half'].values.mean()\n",
    "        avg_away_team_2nd_half_home = df.iloc[index+1:].loc[df['home_team'] == away_team, 'home_team_2nd_half'].values.mean()\n",
    "        \n",
    "        avg_home_team_1st_half_athome_5games = df.iloc[index+1:].loc[df['home_team'] == home_team, 'home_team_1st_half'][:5].values.mean()\n",
    "        avg_home_team_2nd_half_athome_5games = df.iloc[index+1:].loc[df['home_team'] == home_team, 'home_team_2nd_half'][:5].values.mean()\n",
    "        avg_away_team_1st_half_away_5games = df.iloc[index+1:].loc[df['away_team'] == away_team, 'away_team_1st_half'][:5].values.mean()\n",
    "        avg_away_team_2nd_half_away_5games = df.iloc[index+1:].loc[df['away_team'] == away_team, 'away_team_2nd_half'][:5].values.mean() \n",
    "\n",
    "        df.at[index, 'home_team_less5diff_pct'] = home_team_less5diff_pct\n",
    "        df.at[index, 'away_team_less5diff_pct'] = away_team_less5diff_pct\n",
    "        df.at[index, 'record_diff'] = abs(home_team_record - away_team_record)\n",
    "        df.at[index, 'avg_home_team_1st_half_athome'] = avg_home_team_1st_half_athome\n",
    "        df.at[index, 'avg_home_team_2nd_half_athome'] = avg_home_team_2nd_half_athome\n",
    "        df.at[index, 'avg_home_team_1st_half_away'] = avg_home_team_1st_half_away\n",
    "        df.at[index, 'avg_home_team_2nd_half_away'] = avg_home_team_2nd_half_away\n",
    "        df.at[index, 'avg_away_team_1st_half_away'] = avg_away_team_1st_half_away\n",
    "        df.at[index, 'avg_away_team_2nd_half_away'] = avg_away_team_2nd_half_away\n",
    "        df.at[index, 'avg_away_team_1st_half_home'] = avg_away_team_1st_half_home\n",
    "        df.at[index, 'avg_away_team_2nd_half_home'] = avg_away_team_2nd_half_home\n",
    "        \n",
    "        df.at[index, 'avg_home_team_1st_half_athome_5games'] = avg_home_team_1st_half_athome_5games\n",
    "        df.at[index, 'avg_home_team_2nd_half_athome_5games'] = avg_home_team_2nd_half_athome_5games\n",
    "        df.at[index, 'avg_away_team_1st_half_away_5games'] = avg_away_team_1st_half_away_5games\n",
    "        df.at[index, 'avg_away_team_2nd_half_away_5games'] = avg_away_team_2nd_half_away_5games\n",
    "    \n",
    "    df['record_diff'] = df['record_diff'].astype('int')\n",
    "    \n",
    "    return df"
   ]
  },
  {
   "cell_type": "markdown",
   "metadata": {},
   "source": [
    "Загружаем все сезоны с предикторами в один датафрейм, переворачивая, чтобы даты шли по возрастанию. Удаляем все колонки с пропусками в предикторах."
   ]
  },
  {
   "cell_type": "code",
   "execution_count": 3,
   "metadata": {},
   "outputs": [
    {
     "name": "stderr",
     "output_type": "stream",
     "text": [
      "/Users/yuri/Library/Python/2.7/lib/python/site-packages/ipykernel_launcher.py:21: RuntimeWarning: Mean of empty slice.\n",
      "/Users/yuri/Library/Python/2.7/lib/python/site-packages/numpy/core/_methods.py:85: RuntimeWarning: invalid value encountered in double_scalars\n",
      "  ret = ret.dtype.type(ret / rcount)\n",
      "/Users/yuri/Library/Python/2.7/lib/python/site-packages/ipykernel_launcher.py:22: RuntimeWarning: Mean of empty slice.\n",
      "/Users/yuri/Library/Python/2.7/lib/python/site-packages/ipykernel_launcher.py:23: RuntimeWarning: Mean of empty slice.\n",
      "/Users/yuri/Library/Python/2.7/lib/python/site-packages/ipykernel_launcher.py:24: RuntimeWarning: Mean of empty slice.\n",
      "/Users/yuri/Library/Python/2.7/lib/python/site-packages/ipykernel_launcher.py:26: RuntimeWarning: Mean of empty slice.\n",
      "/Users/yuri/Library/Python/2.7/lib/python/site-packages/ipykernel_launcher.py:27: RuntimeWarning: Mean of empty slice.\n",
      "/Users/yuri/Library/Python/2.7/lib/python/site-packages/ipykernel_launcher.py:28: RuntimeWarning: Mean of empty slice.\n",
      "/Users/yuri/Library/Python/2.7/lib/python/site-packages/ipykernel_launcher.py:29: RuntimeWarning: Mean of empty slice.\n",
      "/Users/yuri/Library/Python/2.7/lib/python/site-packages/ipykernel_launcher.py:31: RuntimeWarning: Mean of empty slice.\n",
      "/Users/yuri/Library/Python/2.7/lib/python/site-packages/ipykernel_launcher.py:32: RuntimeWarning: Mean of empty slice.\n",
      "/Users/yuri/Library/Python/2.7/lib/python/site-packages/ipykernel_launcher.py:33: RuntimeWarning: Mean of empty slice.\n",
      "/Users/yuri/Library/Python/2.7/lib/python/site-packages/ipykernel_launcher.py:34: RuntimeWarning: Mean of empty slice.\n"
     ]
    }
   ],
   "source": [
    "import pickle\n",
    "\n",
    "with open('dataframes.pkl', 'rb') as file:\n",
    "    dfs = pickle.load(file)\n",
    "\n",
    "df_combined_list = []\n",
    "for df in dfs:\n",
    "    df = add_predictors(df)\n",
    "    df_combined_list.append(df.iloc[::-1])\n",
    "\n",
    "df_combined = pd.concat(df_combined_list)\n",
    "df_combined.dropna(inplace=True)\n",
    "df_combined.reset_index(drop=True, inplace=True)"
   ]
  },
  {
   "cell_type": "code",
   "execution_count": 4,
   "metadata": {
    "scrolled": true
   },
   "outputs": [
    {
     "data": {
      "text/html": [
       "<div>\n",
       "<style scoped>\n",
       "    .dataframe tbody tr th:only-of-type {\n",
       "        vertical-align: middle;\n",
       "    }\n",
       "\n",
       "    .dataframe tbody tr th {\n",
       "        vertical-align: top;\n",
       "    }\n",
       "\n",
       "    .dataframe thead th {\n",
       "        text-align: right;\n",
       "    }\n",
       "</style>\n",
       "<table border=\"1\" class=\"dataframe\">\n",
       "  <thead>\n",
       "    <tr style=\"text-align: right;\">\n",
       "      <th></th>\n",
       "      <th>date</th>\n",
       "      <th>home_team</th>\n",
       "      <th>away_team</th>\n",
       "      <th>home_score</th>\n",
       "      <th>away_score</th>\n",
       "      <th>home_team_1st_half</th>\n",
       "      <th>away_team_1st_half</th>\n",
       "      <th>home_team_2nd_half</th>\n",
       "      <th>away_team_2nd_half</th>\n",
       "      <th>result</th>\n",
       "      <th>...</th>\n",
       "      <th>avg_home_team_1st_half_away</th>\n",
       "      <th>avg_home_team_2nd_half_away</th>\n",
       "      <th>avg_away_team_1st_half_away</th>\n",
       "      <th>avg_away_team_2nd_half_away</th>\n",
       "      <th>avg_away_team_1st_half_home</th>\n",
       "      <th>avg_away_team_2nd_half_home</th>\n",
       "      <th>avg_home_team_1st_half_athome_5games</th>\n",
       "      <th>avg_home_team_2nd_half_athome_5games</th>\n",
       "      <th>avg_away_team_1st_half_away_5games</th>\n",
       "      <th>avg_away_team_2nd_half_away_5games</th>\n",
       "    </tr>\n",
       "  </thead>\n",
       "  <tbody>\n",
       "    <tr>\n",
       "      <th>15554</th>\n",
       "      <td>2024-06-07</td>\n",
       "      <td>Boston Celtics</td>\n",
       "      <td>Dallas Mavericks</td>\n",
       "      <td>107.0</td>\n",
       "      <td>89.0</td>\n",
       "      <td>63.0</td>\n",
       "      <td>42.0</td>\n",
       "      <td>44.0</td>\n",
       "      <td>47.0</td>\n",
       "      <td>0</td>\n",
       "      <td>...</td>\n",
       "      <td>62.102041</td>\n",
       "      <td>53.795918</td>\n",
       "      <td>58.490196</td>\n",
       "      <td>56.647059</td>\n",
       "      <td>58.117647</td>\n",
       "      <td>57.921569</td>\n",
       "      <td>58.4</td>\n",
       "      <td>55.6</td>\n",
       "      <td>59.6</td>\n",
       "      <td>53.2</td>\n",
       "    </tr>\n",
       "    <tr>\n",
       "      <th>15555</th>\n",
       "      <td>2024-06-10</td>\n",
       "      <td>Boston Celtics</td>\n",
       "      <td>Dallas Mavericks</td>\n",
       "      <td>105.0</td>\n",
       "      <td>98.0</td>\n",
       "      <td>54.0</td>\n",
       "      <td>51.0</td>\n",
       "      <td>51.0</td>\n",
       "      <td>47.0</td>\n",
       "      <td>0</td>\n",
       "      <td>...</td>\n",
       "      <td>62.102041</td>\n",
       "      <td>53.795918</td>\n",
       "      <td>58.173077</td>\n",
       "      <td>56.461538</td>\n",
       "      <td>58.117647</td>\n",
       "      <td>57.921569</td>\n",
       "      <td>59.2</td>\n",
       "      <td>52.2</td>\n",
       "      <td>54.4</td>\n",
       "      <td>52.4</td>\n",
       "    </tr>\n",
       "    <tr>\n",
       "      <th>15556</th>\n",
       "      <td>2024-06-13</td>\n",
       "      <td>Dallas Mavericks</td>\n",
       "      <td>Boston Celtics</td>\n",
       "      <td>99.0</td>\n",
       "      <td>106.0</td>\n",
       "      <td>51.0</td>\n",
       "      <td>50.0</td>\n",
       "      <td>48.0</td>\n",
       "      <td>56.0</td>\n",
       "      <td>1</td>\n",
       "      <td>...</td>\n",
       "      <td>58.037736</td>\n",
       "      <td>56.283019</td>\n",
       "      <td>62.102041</td>\n",
       "      <td>53.795918</td>\n",
       "      <td>62.773585</td>\n",
       "      <td>57.320755</td>\n",
       "      <td>52.4</td>\n",
       "      <td>54.4</td>\n",
       "      <td>57.4</td>\n",
       "      <td>49.8</td>\n",
       "    </tr>\n",
       "    <tr>\n",
       "      <th>15557</th>\n",
       "      <td>2024-06-15</td>\n",
       "      <td>Dallas Mavericks</td>\n",
       "      <td>Boston Celtics</td>\n",
       "      <td>122.0</td>\n",
       "      <td>84.0</td>\n",
       "      <td>61.0</td>\n",
       "      <td>35.0</td>\n",
       "      <td>61.0</td>\n",
       "      <td>49.0</td>\n",
       "      <td>0</td>\n",
       "      <td>...</td>\n",
       "      <td>58.037736</td>\n",
       "      <td>56.283019</td>\n",
       "      <td>61.860000</td>\n",
       "      <td>53.840000</td>\n",
       "      <td>62.773585</td>\n",
       "      <td>57.320755</td>\n",
       "      <td>52.4</td>\n",
       "      <td>53.2</td>\n",
       "      <td>56.8</td>\n",
       "      <td>51.2</td>\n",
       "    </tr>\n",
       "    <tr>\n",
       "      <th>15558</th>\n",
       "      <td>2024-06-18</td>\n",
       "      <td>Boston Celtics</td>\n",
       "      <td>Dallas Mavericks</td>\n",
       "      <td>106.0</td>\n",
       "      <td>88.0</td>\n",
       "      <td>67.0</td>\n",
       "      <td>46.0</td>\n",
       "      <td>39.0</td>\n",
       "      <td>42.0</td>\n",
       "      <td>0</td>\n",
       "      <td>...</td>\n",
       "      <td>61.333333</td>\n",
       "      <td>53.745098</td>\n",
       "      <td>58.037736</td>\n",
       "      <td>56.283019</td>\n",
       "      <td>58.037736</td>\n",
       "      <td>57.792453</td>\n",
       "      <td>59.2</td>\n",
       "      <td>54.4</td>\n",
       "      <td>53.8</td>\n",
       "      <td>51.8</td>\n",
       "    </tr>\n",
       "  </tbody>\n",
       "</table>\n",
       "<p>5 rows × 26 columns</p>\n",
       "</div>"
      ],
      "text/plain": [
       "            date         home_team         away_team  home_score  away_score  \\\n",
       "15554 2024-06-07    Boston Celtics  Dallas Mavericks       107.0        89.0   \n",
       "15555 2024-06-10    Boston Celtics  Dallas Mavericks       105.0        98.0   \n",
       "15556 2024-06-13  Dallas Mavericks    Boston Celtics        99.0       106.0   \n",
       "15557 2024-06-15  Dallas Mavericks    Boston Celtics       122.0        84.0   \n",
       "15558 2024-06-18    Boston Celtics  Dallas Mavericks       106.0        88.0   \n",
       "\n",
       "       home_team_1st_half  away_team_1st_half  home_team_2nd_half  \\\n",
       "15554                63.0                42.0                44.0   \n",
       "15555                54.0                51.0                51.0   \n",
       "15556                51.0                50.0                48.0   \n",
       "15557                61.0                35.0                61.0   \n",
       "15558                67.0                46.0                39.0   \n",
       "\n",
       "       away_team_2nd_half  result  ...  avg_home_team_1st_half_away  \\\n",
       "15554                47.0       0  ...                    62.102041   \n",
       "15555                47.0       0  ...                    62.102041   \n",
       "15556                56.0       1  ...                    58.037736   \n",
       "15557                49.0       0  ...                    58.037736   \n",
       "15558                42.0       0  ...                    61.333333   \n",
       "\n",
       "       avg_home_team_2nd_half_away  avg_away_team_1st_half_away  \\\n",
       "15554                    53.795918                    58.490196   \n",
       "15555                    53.795918                    58.173077   \n",
       "15556                    56.283019                    62.102041   \n",
       "15557                    56.283019                    61.860000   \n",
       "15558                    53.745098                    58.037736   \n",
       "\n",
       "       avg_away_team_2nd_half_away  avg_away_team_1st_half_home  \\\n",
       "15554                    56.647059                    58.117647   \n",
       "15555                    56.461538                    58.117647   \n",
       "15556                    53.795918                    62.773585   \n",
       "15557                    53.840000                    62.773585   \n",
       "15558                    56.283019                    58.037736   \n",
       "\n",
       "       avg_away_team_2nd_half_home  avg_home_team_1st_half_athome_5games  \\\n",
       "15554                    57.921569                                  58.4   \n",
       "15555                    57.921569                                  59.2   \n",
       "15556                    57.320755                                  52.4   \n",
       "15557                    57.320755                                  52.4   \n",
       "15558                    57.792453                                  59.2   \n",
       "\n",
       "       avg_home_team_2nd_half_athome_5games  \\\n",
       "15554                                  55.6   \n",
       "15555                                  52.2   \n",
       "15556                                  54.4   \n",
       "15557                                  53.2   \n",
       "15558                                  54.4   \n",
       "\n",
       "       avg_away_team_1st_half_away_5games  avg_away_team_2nd_half_away_5games  \n",
       "15554                                59.6                                53.2  \n",
       "15555                                54.4                                52.4  \n",
       "15556                                57.4                                49.8  \n",
       "15557                                56.8                                51.2  \n",
       "15558                                53.8                                51.8  \n",
       "\n",
       "[5 rows x 26 columns]"
      ]
     },
     "execution_count": 4,
     "metadata": {},
     "output_type": "execute_result"
    }
   ],
   "source": [
    "df_combined.tail()"
   ]
  },
  {
   "cell_type": "markdown",
   "metadata": {},
   "source": [
    "Инициализируем модель RandomForestClassifier с добавленными предикторами. test set - последний сезон, train set - все предыдущие сезоны. Параметры n_estimators и min_samples_split в данном случае были установлены опытным путем."
   ]
  },
  {
   "cell_type": "code",
   "execution_count": 5,
   "metadata": {},
   "outputs": [
    {
     "data": {
      "text/plain": [
       "RandomForestClassifier(bootstrap=True, class_weight=None, criterion='gini',\n",
       "            max_depth=None, max_features='auto', max_leaf_nodes=None,\n",
       "            min_impurity_decrease=0.0, min_impurity_split=None,\n",
       "            min_samples_leaf=1, min_samples_split=150,\n",
       "            min_weight_fraction_leaf=0.0, n_estimators=300, n_jobs=None,\n",
       "            oob_score=False, random_state=1, verbose=0, warm_start=False)"
      ]
     },
     "execution_count": 5,
     "metadata": {},
     "output_type": "execute_result"
    }
   ],
   "source": [
    "model = RandomForestClassifier(n_estimators=300, min_samples_split=150, random_state=1)\n",
    "\n",
    "train = df_combined.iloc[:14229]\n",
    "test = df_combined.iloc[14229:] #last season\n",
    "\n",
    "predictors = ['avg_home_team_1st_half_athome', 'avg_home_team_1st_half_athome_5games',\n",
    "              'avg_home_team_2nd_half_athome', 'avg_home_team_2nd_half_athome_5games',\n",
    "              'avg_home_team_1st_half_away', 'avg_home_team_2nd_half_away', \n",
    "              'avg_away_team_1st_half_away', 'avg_away_team_1st_half_away_5games',\n",
    "              'avg_away_team_2nd_half_away', 'avg_away_team_2nd_half_away_5games',\n",
    "              'avg_away_team_1st_half_home', 'avg_away_team_2nd_half_home',\n",
    "              'home_team_less5diff_pct', 'away_team_less5diff_pct', 'record_diff', 'stage']\n",
    "\n",
    "model.fit(train[predictors], train[\"result\"])"
   ]
  },
  {
   "cell_type": "markdown",
   "metadata": {},
   "source": [
    "Оценим важность предикторов в модели для того, чтобы понять их примерный порядок в списке предикторов."
   ]
  },
  {
   "cell_type": "code",
   "execution_count": 6,
   "metadata": {
    "scrolled": true
   },
   "outputs": [
    {
     "name": "stdout",
     "output_type": "stream",
     "text": [
      "1. Признак 'avg_home_team_2nd_half_away': 0.0760\n",
      "2. Признак 'avg_away_team_1st_half_away': 0.0740\n",
      "3. Признак 'avg_home_team_1st_half_athome': 0.0739\n",
      "4. Признак 'avg_away_team_2nd_half_away': 0.0738\n",
      "5. Признак 'avg_away_team_1st_half_home': 0.0737\n",
      "6. Признак 'avg_away_team_2nd_half_home': 0.0732\n",
      "7. Признак 'avg_home_team_2nd_half_athome': 0.0725\n",
      "8. Признак 'avg_home_team_1st_half_away': 0.0706\n",
      "9. Признак 'away_team_less5diff_pct': 0.0643\n",
      "10. Признак 'home_team_less5diff_pct': 0.0611\n",
      "11. Признак 'avg_home_team_1st_half_athome_5games': 0.0600\n",
      "12. Признак 'avg_home_team_2nd_half_athome_5games': 0.0598\n",
      "13. Признак 'avg_away_team_1st_half_away_5games': 0.0583\n",
      "14. Признак 'avg_away_team_2nd_half_away_5games': 0.0561\n",
      "15. Признак 'record_diff': 0.0447\n",
      "16. Признак 'stage': 0.0081\n"
     ]
    }
   ],
   "source": [
    "import numpy as np\n",
    "model.fit(train[predictors], train[\"result\"])\n",
    "importances = model.feature_importances_\n",
    "feature_names = train[predictors].columns\n",
    "indices = np.argsort(importances)[::-1]\n",
    "for f in range(train[predictors].shape[1]):\n",
    "    print(\"{}. Признак '{}': {:.4f}\".format(f + 1, feature_names[indices[f]], importances[indices[f]]))"
   ]
  },
  {
   "cell_type": "markdown",
   "metadata": {},
   "source": [
    "Предсказываем вероятность результативных игр за последний сезон. Чем выше установленный порог вероятнсти, тем предположительно больше должна быть вероятность предсказать результат, но тем меньше становится количество предсказаний. Установим значение порога вероятности на 0.33, после которого игра будет считаться результативной."
   ]
  },
  {
   "cell_type": "code",
   "execution_count": 7,
   "metadata": {},
   "outputs": [],
   "source": [
    "preds = model.predict_proba(test[predictors])[:,1]\n",
    "preds[preds >= .33] = 1\n",
    "preds[preds < .33] = 0\n",
    "preds = pd.Series(preds, index=test.index, name=\"Predictions\")"
   ]
  },
  {
   "cell_type": "markdown",
   "metadata": {},
   "source": [
    "Полученная точность результативных предсказаний в последнем сезоне:"
   ]
  },
  {
   "cell_type": "code",
   "execution_count": 8,
   "metadata": {},
   "outputs": [
    {
     "data": {
      "text/plain": [
       "0.25757575757575757"
      ]
     },
     "execution_count": 8,
     "metadata": {},
     "output_type": "execute_result"
    }
   ],
   "source": [
    "precision_score(test[\"result\"], preds)"
   ]
  },
  {
   "cell_type": "markdown",
   "metadata": {},
   "source": [
    "Количество предсказаний при установленном пороге вероятности:"
   ]
  },
  {
   "cell_type": "code",
   "execution_count": 9,
   "metadata": {
    "scrolled": true
   },
   "outputs": [
    {
     "data": {
      "text/plain": [
       "0.0    1264\n",
       "1.0      66\n",
       "Name: Predictions, dtype: int64"
      ]
     },
     "execution_count": 9,
     "metadata": {},
     "output_type": "execute_result"
    }
   ],
   "source": [
    "preds.value_counts()"
   ]
  },
  {
   "cell_type": "markdown",
   "metadata": {},
   "source": [
    "Создадим более надежный способ тестирования нашей модели. Для этого будем предсказывать каждый последующий сезон начиная с пятого сезона, для обучения используем данные первых четырех сезонов, затем пяти, и так далее.\n",
    "Реализуем это с помощью функции backtest.\n",
    "Для начала в список seasons_index сохраним индексы окончания четвертого сезона и каждых последующих:"
   ]
  },
  {
   "cell_type": "code",
   "execution_count": 10,
   "metadata": {},
   "outputs": [
    {
     "name": "stdout",
     "output_type": "stream",
     "text": [
      "5001\n",
      "6363\n",
      "7542\n",
      "8895\n",
      "10225\n",
      "11546\n",
      "12893\n",
      "14229\n",
      "15559\n"
     ]
    }
   ],
   "source": [
    "seasons_index = []\n",
    "for year_range in [(2014, 2020), (2022, 2025)]: \n",
    "    for year in range(year_range[0], year_range[1]):\n",
    "        index = df_combined[(df_combined['date'].dt.year == year) & (df_combined['stage'] == 4)].index[-1]+1\n",
    "        print(index)\n",
    "        seasons_index.append(index)"
   ]
  },
  {
   "cell_type": "markdown",
   "metadata": {},
   "source": [
    "Создадим функцию predict на подобии предыдущего шага, возвращающую колонку с действительными результатами и предсказаниями."
   ]
  },
  {
   "cell_type": "code",
   "execution_count": 11,
   "metadata": {},
   "outputs": [],
   "source": [
    "def predict(train, test, predictors, model):\n",
    "    model.fit(train[predictors], train[\"result\"])\n",
    "    preds = model.predict_proba(test[predictors])[:,1]\n",
    "    preds[preds >=.33] = 1\n",
    "    preds[preds <.33] = 0\n",
    "    preds = pd.Series(preds, index=test.index, name=\"Predictions\")\n",
    "    combined = pd.concat([test[\"result\"], preds], axis=1)\n",
    "    return combined"
   ]
  },
  {
   "cell_type": "markdown",
   "metadata": {},
   "source": [
    "Функция backtest выведет информацию о точности предсказаний в процентах за сезон, количестве предсказаний за сезон, действительному проценту результативных матчей за сезон по каждому шагу тестирования. На выходе функция возвратит объединенный список с предсказаниями и действительными результатами для оценки общей точности."
   ]
  },
  {
   "cell_type": "code",
   "execution_count": 12,
   "metadata": {},
   "outputs": [],
   "source": [
    "def backtest(data, model, predictors, seasons_index):\n",
    "    all_predictions = []\n",
    "\n",
    "    for i in range(len(seasons_index)-1):\n",
    "        train = df_combined.iloc[0:seasons_index[i]].copy()\n",
    "        test = df_combined.iloc[seasons_index[i]:seasons_index[i+1]].copy()\n",
    "        predictions = predict(train, test, predictors, model)\n",
    "        print('prediction pct: {}'.format(precision_score(predictions[\"result\"],predictions[\"Predictions\"])),\n",
    "              'preds number: {}'.format(predictions['Predictions'].value_counts()[1]),\n",
    "              'season pct: {}'.format(float(predictions[\"result\"].value_counts()[1]) / predictions[\"result\"].shape[0]))\n",
    "        all_predictions.append(predictions)\n",
    "    \n",
    "    return pd.concat(all_predictions)"
   ]
  },
  {
   "cell_type": "code",
   "execution_count": 13,
   "metadata": {
    "scrolled": false
   },
   "outputs": [
    {
     "name": "stdout",
     "output_type": "stream",
     "text": [
      "('prediction pct: 0.25', 'preds number: 52', 'season pct: 0.210719530103')\n",
      "('prediction pct: 0.272727272727', 'preds number: 22', 'season pct: 0.223070398643')\n",
      "('prediction pct: 0.222222222222', 'preds number: 216', 'season pct: 0.223207686622')\n",
      "('prediction pct: 0.416666666667', 'preds number: 36', 'season pct: 0.245112781955')\n",
      "('prediction pct: 0.264516129032', 'preds number: 155', 'season pct: 0.233913701741')\n",
      "('prediction pct: 0.276595744681', 'preds number: 47', 'season pct: 0.242019302153')\n",
      "('prediction pct: 0.285714285714', 'preds number: 28', 'season pct: 0.244011976048')\n",
      "('prediction pct: 0.257575757576', 'preds number: 66', 'season pct: 0.223308270677')\n"
     ]
    }
   ],
   "source": [
    "predictions = backtest(df_combined, model, predictors, seasons_index)"
   ]
  },
  {
   "cell_type": "markdown",
   "metadata": {},
   "source": [
    "Оценим общую точность предсказаний:"
   ]
  },
  {
   "cell_type": "code",
   "execution_count": 14,
   "metadata": {},
   "outputs": [
    {
     "data": {
      "text/plain": [
       "0.25884244372990356"
      ]
     },
     "execution_count": 14,
     "metadata": {},
     "output_type": "execute_result"
    }
   ],
   "source": [
    "precision_score(predictions[\"result\"], predictions[\"Predictions\"])"
   ]
  },
  {
   "cell_type": "markdown",
   "metadata": {},
   "source": [
    "И для сравнения, общий процент результативных игр по всем сезонам:"
   ]
  },
  {
   "cell_type": "code",
   "execution_count": 15,
   "metadata": {},
   "outputs": [
    {
     "data": {
      "text/plain": [
       "0.22944919339289158"
      ]
     },
     "execution_count": 15,
     "metadata": {},
     "output_type": "execute_result"
    }
   ],
   "source": [
    "float(df_combined.result.sum()) / df_combined.result.count()"
   ]
  },
  {
   "cell_type": "markdown",
   "metadata": {},
   "source": [
    "Итак, выборочно предсказывая результативные матчи с помощью нашей модели мы повысили процент результативных матчей примерно на 4% по сравнению с общим процентом результативных игр по всем сезонам. Из результатов backtesting видно, что в третьем из восьми предсказанных сезонов процент довольно низкий и даже немного меньше, чем процент игр по сезону, что сказывается на общем проценте precision_score, значительно его понижая. Однако количесво предсказаний в этом сезоне выше, чем в других, в таком случае стоит повысить порог вероятности. Во всех остальных сезонах результат положительный и превышает 25% - процент безубыточности стратегии."
   ]
  },
  {
   "cell_type": "code",
   "execution_count": null,
   "metadata": {},
   "outputs": [],
   "source": []
  }
 ],
 "metadata": {
  "kernelspec": {
   "display_name": "Python 2",
   "language": "python",
   "name": "python2"
  },
  "language_info": {
   "codemirror_mode": {
    "name": "ipython",
    "version": 2
   },
   "file_extension": ".py",
   "mimetype": "text/x-python",
   "name": "python",
   "nbconvert_exporter": "python",
   "pygments_lexer": "ipython2",
   "version": "2.7.16"
  }
 },
 "nbformat": 4,
 "nbformat_minor": 2
}
